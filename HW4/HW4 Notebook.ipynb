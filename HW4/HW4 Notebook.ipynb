{
 "cells": [
  {
   "cell_type": "markdown",
   "metadata": {},
   "source": [
    "### Problem 1"
   ]
  },
  {
   "cell_type": "markdown",
   "metadata": {},
   "source": [
    "Using only Table 1 or only Table 2, see if you can identify the education and marital status of a woman from the Philippines (Asian) that is working in “Craft-repair” sector. What if you use both Table 1 and Table 2?"
   ]
  },
  {
   "cell_type": "code",
   "execution_count": 224,
   "metadata": {},
   "outputs": [],
   "source": [
    "import numpy as np\n",
    "import matplotlib.pyplot as plt\n",
    "import pandas as pd"
   ]
  },
  {
   "cell_type": "code",
   "execution_count": 228,
   "metadata": {},
   "outputs": [
    {
     "name": "stdout",
     "output_type": "stream",
     "text": [
      "       age    occupation                race     sex  capital-gain  \\\n",
      "29431   59  Craft-repair  Asian-Pac-Islander  Female             0   \n",
      "\n",
      "       capital-loss  hours-per-week native-country income  \n",
      "29431             0              35    Philippines  <=50K  \n"
     ]
    }
   ],
   "source": [
    "                    ####################### ONLY TABLE 2 #######################\n",
    "dataset = pd.read_csv('table2.csv')\n",
    "table2 = dataset.loc[(dataset['occupation'] == 'Craft-repair') & (dataset['sex'] == 'Female') \n",
    "                     & (dataset['race'] == 'Asian-Pac-Islander') & (dataset['native-country'] == 'Philippines') ]\n",
    "print(table2)"
   ]
  },
  {
   "cell_type": "code",
   "execution_count": 227,
   "metadata": {},
   "outputs": [
    {
     "name": "stdout",
     "output_type": "stream",
     "text": [
      "(32561, 7)\n",
      "(1, 7)\n",
      "     age    occupation education  education-num      marital-status  \\\n",
      "920   59  Craft-repair   Masters             14  Married-civ-spouse   \n",
      "\n",
      "                   race     sex  \n",
      "920  Asian-Pac-Islander  Female  \n"
     ]
    }
   ],
   "source": [
    "                    ####################### ONLY TABLE 1 #######################\n",
    "dataset = pd.read_csv('table1.csv')\n",
    "print(dataset.shape)\n",
    "table1 = dataset.loc[(dataset['occupation'] == 'Craft-repair') & (dataset['sex'] == 'Female') &\n",
    "                     (dataset['race'] == 'Asian-Pac-Islander') & (dataset['age'] == 59)]\n",
    "print(table1.shape)\n",
    "print(table1)"
   ]
  },
  {
   "cell_type": "markdown",
   "metadata": {},
   "source": [
    "I was not able to use only table 1 or table 2 to identify the education and marital-status of a woman from the Philippines (Asian) that is working in “Craft-repair” sector. However by using both table 1 and table 2 I was able to find out the the marital-status of this women is <b>Married-civ-spouse</b>, the education-num is <b>14</b> and the education is <b>Masters</b>. By using the given information and scanning table 2 I was able to find one entry that matched, but table 1 did not have marital status or education. Using the information from the 1 entry returned from table 2 I was able to find both the marital status and education from table 1. "
   ]
  },
  {
   "cell_type": "markdown",
   "metadata": {
    "id": "cHSaycfVdHRJ"
   },
   "source": [
    "### Problem 2\n",
    "\n",
    "Experimenting with **k-anomity, i-diversity, and t-closeness**. \n",
    "\n",
    "Consider a dataset, for example, with 3 ordinary attributes and 1 sensitive attribute. Let the 3 ordinary attributes be Age, Sex, and Education and the sensitive attribute be Income, each row in this dataset is of the form:\n",
    "\n",
    "$$\n",
    "    [Age, Sex, Education, Income]\n",
    "$$\n",
    "\n",
    "A hacker is interested in knowing the sensitive attribute Income. When the dataset is designed so that if complies with either **k-anomity**, **i-diversity**, and/or **t-closeness**, even if he or she somehow figures out the values of the three, the hacker may not retrive the sensitive information accurately. In general, **k-anomity** is weaker than **i-diversity**, which, in turn, is weaker than **t-closeness**.\n",
    "\n",
    "By definition, **k-anomity** means that there is at least **k** different rows in the table of which ordinary values are a particular combination of Age, Sex, and Education. For example, the hacker knows the information of the person of interest is Age = 31, Sex = Female, and Education = BS. He or she looks into the data table and found that there are 3 rows with that combination:\n",
    "\n",
    "$$\n",
    "    [Age=31, Sex=Female, Education=BS, Income=300k]\n",
    "$$\n",
    "$$\n",
    "    [Age=31, Sex=Female, Education=BS, Income=70k]\n",
    "$$\n",
    "$$\n",
    "    [Age=31, Sex=Female, Education=BS, Income=20k]\n",
    "$$\n",
    "\n",
    "The hacker cannot tell accurately what the income of the person is because it can be one of the 3 values shown. This particular combination of information has 3-anomity. If every combination corresponds to at least 3 rows, then the dataset has 3-anomity.\n",
    "\n",
    "a) Let's look at the dataset **\"table3.csv\"**, a simplified version of **\"table1.csv\"** from problem 1. Let the sensitive attribute be **education** and others be ordinary attributes. Calculate the anomity of the dataset (the value **k**). First, find all the posible combinations of the ordinary attributes that exists in the dataset. After that, determine the anomity for each combination. The anomity of the dataset is the smallest anomity among the combinations."
   ]
  },
  {
   "cell_type": "code",
   "execution_count": 229,
   "metadata": {
    "id": "Qrm7S5y5dHRJ"
   },
   "outputs": [
    {
     "name": "stdout",
     "output_type": "stream",
     "text": [
      "Anomity of the dataset(k-anomity):  1\n"
     ]
    }
   ],
   "source": [
    "dataset = pd.read_csv('table3.csv')\n",
    "SF = dataset.iloc[:,2].values # education\n",
    "\n",
    "age = range(0, 101) # age: 0-32560\n",
    "sex = ['Male', 'Female']\n",
    "race = ['White', 'Black', 'Asian-Pac-Islander','Amer-Indian-Eskimo', 'Other']\n",
    "smallestAnon = 10000000000\n",
    "for r in race:\n",
    "    for s in sex:\n",
    "        for a in age:\n",
    "            table = dataset[(dataset['race'] == r) & (dataset['sex'] == s) & (dataset['age'] == a)]\n",
    "            if(len(table) != 0):\n",
    "                if(len(table) < smallestAnon):\n",
    "                    smallestAnon = len(table)\n",
    "print(\"Anomity of the dataset(k-anomity): \",smallestAnon)"
   ]
  },
  {
   "cell_type": "code",
   "execution_count": 240,
   "metadata": {},
   "outputs": [],
   "source": [
    "# education = ['Bachelors', 'HS-grad','11th','9th','Masters','Doctorate','Some-college','Assoc-voc','5th-6th','7th-8th'\n",
    "#             ,'1st-4th','Prof-school','10th','12th','Assoc-acdm','Preschool']\n",
    "\n",
    "# for i in SF: \n",
    "#     if i not in education:\n",
    "#         print(i)"
   ]
  },
  {
   "cell_type": "markdown",
   "metadata": {
    "id": "ixGLowBjdHRK"
   },
   "source": [
    "We can improve the **k-anomity** of the dataset by \"suppressing\" the ordinary attributes. Suppressing means reducing the resolution of the attribute's value. For this problem, let's suppress Age by replacing the exact age with an age range. For example, instead of leaving age = 32, replace it with age = 30-40. Apply this to **\"table3.csv\"** with the ranges {<20, 20-30, 30-50, >50}. Check if the anomity improves. "
   ]
  },
  {
   "cell_type": "code",
   "execution_count": 232,
   "metadata": {
    "id": "AGqI5mltdHRK"
   },
   "outputs": [
    {
     "name": "stdout",
     "output_type": "stream",
     "text": [
      "Anomity of the dataset(k-anomity) range: 0-20   7\n",
      "Anomity of the dataset(k-anomity) range: 20-30  34\n",
      "Anomity of the dataset(k-anomity) range: 30-50  43\n",
      "Anomity of the dataset(k-anomity) range: 0-50   100\n"
     ]
    }
   ],
   "source": [
    "sex = ['Male', 'Female']\n",
    "race = ['White', 'Black', 'Asian-Pac-Islander','Amer-Indian-Eskimo', 'Other']\n",
    "smallestAnon = 10000000000\n",
    "for r in race:\n",
    "    for s in sex:\n",
    "            table = dataset.loc[(dataset['race'] == r) & (dataset['sex'] == s) & (dataset['age'].between(0, 20))]\n",
    "            if(len(table) != 0):\n",
    "                if(len(table) < smallestAnon):\n",
    "                    smallestAnon = len(table)\n",
    "print(\"Anomity of the dataset(k-anomity) range: 0-20  \",smallestAnon)\n",
    "\n",
    "sex = ['Male', 'Female']\n",
    "race = ['White', 'Black', 'Asian-Pac-Islander','Amer-Indian-Eskimo', 'Other']\n",
    "smallestAnon = 10000000000\n",
    "for r in race:\n",
    "    for s in sex:\n",
    "            table = dataset.loc[(dataset['race'] == r) & (dataset['sex'] == s) & (dataset['age'].between(20, 30))]\n",
    "            if(len(table) != 0):\n",
    "                if(len(table) < smallestAnon):\n",
    "                    smallestAnon = len(table)\n",
    "print(\"Anomity of the dataset(k-anomity) range: 20-30 \",smallestAnon)\n",
    "\n",
    "sex = ['Male', 'Female']\n",
    "race = ['White', 'Black', 'Asian-Pac-Islander','Amer-Indian-Eskimo', 'Other']\n",
    "smallestAnon = 10000000000\n",
    "for r in race:\n",
    "    for s in sex:\n",
    "            table = dataset.loc[(dataset['race'] == r) & (dataset['sex'] == s) & (dataset['age'].between(30, 50))]\n",
    "            if(len(table) != 0):\n",
    "                if(len(table) < smallestAnon):\n",
    "                    smallestAnon = len(table)\n",
    "print(\"Anomity of the dataset(k-anomity) range: 30-50 \",smallestAnon)\n",
    "\n",
    "\n",
    "sex = ['Male', 'Female']\n",
    "race = ['White', 'Black', 'Asian-Pac-Islander','Amer-Indian-Eskimo', 'Other']\n",
    "smallestAnon = 10000000000\n",
    "for r in race:\n",
    "    for s in sex:\n",
    "            table = dataset.loc[(dataset['race'] == r) & (dataset['sex'] == s) & (dataset['age'].between(0, 50))]\n",
    "            if(len(table) != 0):\n",
    "                if(len(table) < smallestAnon):\n",
    "                    smallestAnon = len(table)\n",
    "print(\"Anomity of the dataset(k-anomity) range: 0-50  \",smallestAnon)"
   ]
  },
  {
   "cell_type": "markdown",
   "metadata": {
    "id": "Pv-RmXqCdHRK"
   },
   "source": [
    "**K-anomity** is nice, however, it fails in many cases. If the rows which share a combination of ordinary attributes have only a few values for the sensitive attribute, then it is not much better than having no anomity at all. For example, consider:\n",
    "\n",
    "$$\n",
    "    [Age=31, Sex=Female, Education=BS, Income=300k]\n",
    "$$\n",
    "$$\n",
    "    [Age=31, Sex=Female, Education=BS, Income=20k]\n",
    "$$\n",
    "$$\n",
    "    [Age=31, Sex=Female, Education=BS, Income=20k]\n",
    "$$\n",
    "$$\n",
    "    [Age=31, Sex=Female, Education=BS, Income=20k]\n",
    "$$\n",
    "\n",
    "When **k-anomity** fails in the second case, **i-diversity** comes to the rescue. **I-diversity** states that the rows of a particular combination of information must have at least i different values for the sensitive attribute. The above example has 2-diversity, which is not good. \n",
    "\n",
    "b) Calculate the diversity of the dataset **\"table3.csv\"**. Follow similar steps as in part a. "
   ]
  },
  {
   "cell_type": "code",
   "execution_count": 261,
   "metadata": {
    "id": "eZYCvcukdHRK"
   },
   "outputs": [
    {
     "name": "stdout",
     "output_type": "stream",
     "text": [
      "Diversity of the dataset(I-diversity):  1\n"
     ]
    }
   ],
   "source": [
    "age = range(0, 100) # age: 0-32560\n",
    "sex = ['Male', 'Female']\n",
    "race = ['White', 'Black', 'Asian-Pac-Islander','Amer-Indian-Eskimo', 'Other']\n",
    "count = 0\n",
    "iDiversity = 100000000 \n",
    "bachCount = 0\n",
    "hsCount = 0\n",
    "eleventhCount = 0\n",
    "ninCount = 0\n",
    "masterCount = 0\n",
    "doctCount = 0\n",
    "someCount = 0\n",
    "assocCount = 0\n",
    "fifthCount = 0\n",
    "seventhCount = 0\n",
    "firstCount = 0\n",
    "profCount = 0\n",
    "tenthCount = 0\n",
    "tweCount = 0\n",
    "assocAdCount = 0 \n",
    "preschoolCount = 0\n",
    "for r in race:\n",
    "    for s in sex:\n",
    "        for a in age:\n",
    "            table = dataset.loc[(dataset['race'] == r) & (dataset['sex'] == s) & (dataset['age'] == a)]\n",
    "            if(len(table) != 0):\n",
    "                SF = table.iloc[:,2].values\n",
    "                for i in range(len(SF)):\n",
    "                    if(SF[i] == 'Bachelors' and bachCount != 1):\n",
    "                        count += 1\n",
    "                        bachCount += 1\n",
    "                    elif(SF[i] == 'HS-grad'and hsCount != 1):\n",
    "                        count += 1\n",
    "                        hsCount += 1\n",
    "                    elif(SF[i] == '11th'and eleventhCount != 1):\n",
    "                        count += 1\n",
    "                        eleventhCount += 1\n",
    "                    elif(SF[i] == '9th'and ninCount != 1):\n",
    "                        count += 1\n",
    "                        ninCount += 1\n",
    "                    elif(SF[i] == 'Masters'and masterCount != 1):\n",
    "                        count += 1\n",
    "                        masterCount += 1\n",
    "                    elif(SF[i] == 'Doctorate'and doctCount != 1):\n",
    "                        count += 1\n",
    "                        doctCount += 1\n",
    "                    elif(SF[i] == 'Some-college'and someCount != 1):\n",
    "                        count += 1\n",
    "                        someCount += 1\n",
    "                    elif(SF[i] == 'Assoc-voc'and assocCount != 1):\n",
    "                        count += 1\n",
    "                        assocCount += 1\n",
    "                    elif(SF[i] == '5th-6th'and fifthCount != 1):\n",
    "                        count += 1\n",
    "                        fifthCount += 1\n",
    "                    elif(SF[i] == '7th-8th'and seventhCount != 1):\n",
    "                        count += 1\n",
    "                        seventhCount += 1\n",
    "                    elif(SF[i] == '1st-4th'and firstCount != 1):\n",
    "                        count += 1\n",
    "                        firstCount += 1\n",
    "                    elif(SF[i] == 'Prof-school'and profCount != 1):\n",
    "                        count += 1\n",
    "                        profCount += 1\n",
    "                    elif(SF[i] == '10th'and tenthCount != 1):\n",
    "                        count += 1\n",
    "                        tenthCount += 1\n",
    "                    elif(SF[i] == '12th'and tweCount != 1):\n",
    "                        count += 1\n",
    "                        tweCount += 1\n",
    "                    elif(SF[i] == 'Preschool'and preschoolCount != 1):\n",
    "                        count += 1\n",
    "                        preschoolCount += 1                    \n",
    "                    elif(SF[i] == 'Assoc-acdm'and assocAdCount != 1):\n",
    "                        count += 1\n",
    "                        assocAdCount += 1  \n",
    "                if(count < iDiversity ):\n",
    "                    iDiversity = count \n",
    "                count = 0 \n",
    "                bachCount = 0\n",
    "                hsCount = 0\n",
    "                eleventhCount = 0\n",
    "                ninCount = 0\n",
    "                masterCount = 0\n",
    "                doctCount = 0\n",
    "                someCount = 0\n",
    "                assocCount = 0\n",
    "                fifthCount = 0\n",
    "                seventhCount = 0\n",
    "                firstCount = 0\n",
    "                profCount = 0\n",
    "                tenthCount = 0\n",
    "                tweCount = 0\n",
    "                assocAdCount = 0 \n",
    "                preschoolCount = 0\n",
    "print(\"Diversity of the dataset(I-diversity): \",iDiversity)"
   ]
  },
  {
   "cell_type": "markdown",
   "metadata": {
    "id": "6qWt9JvTdHRK"
   },
   "source": [
    "Suppressing an attribute can also improve the **i-diversity** of the dataset. Repeat the suppression as in **part a** and check if the diversity improves. If it does not, consider further suppress age by using the range {<20, 20-50, >50}."
   ]
  },
  {
   "cell_type": "code",
   "execution_count": 266,
   "metadata": {
    "id": "FFVPKWrodHRK"
   },
   "outputs": [
    {
     "name": "stdout",
     "output_type": "stream",
     "text": [
      "Diversity of the dataset(I-diversity) range: 0-20:    4\n",
      "Diversity of the dataset(I-diversity) range: 20-30:   7\n",
      "Diversity of the dataset(I-diversity) range: 30-50:   11\n",
      "Diversity of the dataset(I-diversity) range: 20-50:   11\n",
      "Diversity of the dataset(I-diversity) range: 0-50:    12\n"
     ]
    }
   ],
   "source": [
    "sex = ['Male', 'Female']\n",
    "race = ['White', 'Black', 'Asian-Pac-Islander','Amer-Indian-Eskimo', 'Other']\n",
    "count = 0\n",
    "iDiversity = 100000000 \n",
    "count = 0 \n",
    "bachCount = 0\n",
    "hsCount = 0\n",
    "eleventhCount = 0\n",
    "ninCount = 0\n",
    "masterCount = 0\n",
    "doctCount = 0\n",
    "someCount = 0\n",
    "assocCount = 0\n",
    "fifthCount = 0\n",
    "seventhCount = 0\n",
    "firstCount = 0\n",
    "profCount = 0\n",
    "tenthCount = 0\n",
    "tweCount = 0\n",
    "assocAdCount = 0 \n",
    "preschoolCount = 0\n",
    "for r in race:\n",
    "    for s in sex:\n",
    "        for a in age:\n",
    "            table = dataset.loc[(dataset['race'] == r) & (dataset['sex'] == s) & (dataset['age'].between(0, 20))]\n",
    "            if(len(table) != 0):\n",
    "                SF = table.iloc[:,2].values\n",
    "                for i in range(len(SF)):\n",
    "                    if(SF[i] == 'Bachelors' and bachCount != 1):\n",
    "                        count += 1\n",
    "                        bachCount += 1\n",
    "                    elif(SF[i] == 'HS-grad'and hsCount != 1):\n",
    "                        count += 1\n",
    "                        hsCount += 1\n",
    "                    elif(SF[i] == '11th'and eleventhCount != 1):\n",
    "                        count += 1\n",
    "                        eleventhCount += 1\n",
    "                    elif(SF[i] == '9th'and ninCount != 1):\n",
    "                        count += 1\n",
    "                        ninCount += 1\n",
    "                    elif(SF[i] == 'Masters'and masterCount != 1):\n",
    "                        count += 1\n",
    "                        masterCount += 1\n",
    "                    elif(SF[i] == 'Doctorate'and doctCount != 1):\n",
    "                        count += 1\n",
    "                        doctCount += 1\n",
    "                    elif(SF[i] == 'Some-college'and someCount != 1):\n",
    "                        count += 1\n",
    "                        someCount += 1\n",
    "                    elif(SF[i] == 'Assoc-voc'and assocCount != 1):\n",
    "                        count += 1\n",
    "                        assocCount += 1\n",
    "                    elif(SF[i] == '5th-6th'and fifthCount != 1):\n",
    "                        count += 1\n",
    "                        fifthCount += 1\n",
    "                    elif(SF[i] == '7th-8th'and seventhCount != 1):\n",
    "                        count += 1\n",
    "                        seventhCount += 1\n",
    "                    elif(SF[i] == '1st-4th'and firstCount != 1):\n",
    "                        count += 1\n",
    "                        firstCount += 1\n",
    "                    elif(SF[i] == 'Prof-school'and profCount != 1):\n",
    "                        count += 1\n",
    "                        profCount += 1\n",
    "                    elif(SF[i] == '10th'and tenthCount != 1):\n",
    "                        count += 1\n",
    "                        tenthCount += 1\n",
    "                    elif(SF[i] == '12th'and tweCount != 1):\n",
    "                        count += 1\n",
    "                        tweCount += 1\n",
    "                    elif(SF[i] == 'Preschool'and preschoolCount != 1):\n",
    "                        count += 1\n",
    "                        preschoolCount += 1                    \n",
    "                    elif(SF[i] == 'Assoc-acdm'and assocAdCount != 1):\n",
    "                        count += 1\n",
    "                        assocAdCount += 1  \n",
    "                if(count < iDiversity ):\n",
    "                    iDiversity = count \n",
    "                count = 0 \n",
    "                bachCount = 0\n",
    "                hsCount = 0\n",
    "                eleventhCount = 0\n",
    "                ninCount = 0\n",
    "                masterCount = 0\n",
    "                doctCount = 0\n",
    "                someCount = 0\n",
    "                assocCount = 0\n",
    "                fifthCount = 0\n",
    "                seventhCount = 0\n",
    "                firstCount = 0\n",
    "                profCount = 0\n",
    "                tenthCount = 0\n",
    "                tweCount = 0\n",
    "                assocAdCount = 0 \n",
    "                preschoolCount = 0\n",
    "print(\"Diversity of the dataset(I-diversity) range: 0-20:   \",iDiversity)\n",
    "\n",
    "\n",
    "\n",
    "sex = ['Male', 'Female']\n",
    "race = ['White', 'Black', 'Asian-Pac-Islander','Amer-Indian-Eskimo', 'Other']\n",
    "count = 0\n",
    "iDiversity = 100000000 \n",
    "count = 0 \n",
    "bachCount = 0\n",
    "hsCount = 0\n",
    "eleventhCount = 0\n",
    "ninCount = 0\n",
    "masterCount = 0\n",
    "doctCount = 0\n",
    "someCount = 0\n",
    "assocCount = 0\n",
    "fifthCount = 0\n",
    "seventhCount = 0\n",
    "firstCount = 0\n",
    "profCount = 0\n",
    "tenthCount = 0\n",
    "tweCount = 0\n",
    "assocAdCount = 0 \n",
    "preschoolCount = 0\n",
    "\n",
    "for r in race:\n",
    "    for s in sex:\n",
    "        for a in age:\n",
    "            table = dataset.loc[(dataset['race'] == r) & (dataset['sex'] == s) & (dataset['age'].between(20, 30))]\n",
    "            if(len(table) != 0):\n",
    "                SF = table.iloc[:,2].values\n",
    "                for i in range(len(SF)):\n",
    "                    if(SF[i] == 'Bachelors' and bachCount != 1):\n",
    "                        count += 1\n",
    "                        bachCount += 1\n",
    "                    elif(SF[i] == 'HS-grad'and hsCount != 1):\n",
    "                        count += 1\n",
    "                        hsCount += 1\n",
    "                    elif(SF[i] == '11th'and eleventhCount != 1):\n",
    "                        count += 1\n",
    "                        eleventhCount += 1\n",
    "                    elif(SF[i] == '9th'and ninCount != 1):\n",
    "                        count += 1\n",
    "                        ninCount += 1\n",
    "                    elif(SF[i] == 'Masters'and masterCount != 1):\n",
    "                        count += 1\n",
    "                        masterCount += 1\n",
    "                    elif(SF[i] == 'Doctorate'and doctCount != 1):\n",
    "                        count += 1\n",
    "                        doctCount += 1\n",
    "                    elif(SF[i] == 'Some-college'and someCount != 1):\n",
    "                        count += 1\n",
    "                        someCount += 1\n",
    "                    elif(SF[i] == 'Assoc-voc'and assocCount != 1):\n",
    "                        count += 1\n",
    "                        assocCount += 1\n",
    "                    elif(SF[i] == '5th-6th'and fifthCount != 1):\n",
    "                        count += 1\n",
    "                        fifthCount += 1\n",
    "                    elif(SF[i] == '7th-8th'and seventhCount != 1):\n",
    "                        count += 1\n",
    "                        seventhCount += 1\n",
    "                    elif(SF[i] == '1st-4th'and firstCount != 1):\n",
    "                        count += 1\n",
    "                        firstCount += 1\n",
    "                    elif(SF[i] == 'Prof-school'and profCount != 1):\n",
    "                        count += 1\n",
    "                        profCount += 1\n",
    "                    elif(SF[i] == '10th'and tenthCount != 1):\n",
    "                        count += 1\n",
    "                        tenthCount += 1\n",
    "                    elif(SF[i] == '12th'and tweCount != 1):\n",
    "                        count += 1\n",
    "                        tweCount += 1\n",
    "                    elif(SF[i] == 'Preschool'and preschoolCount != 1):\n",
    "                        count += 1\n",
    "                        preschoolCount += 1                    \n",
    "                    elif(SF[i] == 'Assoc-acdm'and assocAdCount != 1):\n",
    "                        count += 1\n",
    "                        assocAdCount += 1  \n",
    "                if(count < iDiversity ):\n",
    "                    iDiversity = count \n",
    "                count = 0 \n",
    "                bachCount = 0\n",
    "                hsCount = 0\n",
    "                eleventhCount = 0\n",
    "                ninCount = 0\n",
    "                masterCount = 0\n",
    "                doctCount = 0\n",
    "                someCount = 0\n",
    "                assocCount = 0\n",
    "                fifthCount = 0\n",
    "                seventhCount = 0\n",
    "                firstCount = 0\n",
    "                profCount = 0\n",
    "                tenthCount = 0\n",
    "                tweCount = 0\n",
    "                assocAdCount = 0 \n",
    "                preschoolCount = 0\n",
    "print(\"Diversity of the dataset(I-diversity) range: 20-30:  \",iDiversity)\n",
    "\n",
    "\n",
    "sex = ['Male', 'Female']\n",
    "race = ['White', 'Black', 'Asian-Pac-Islander','Amer-Indian-Eskimo', 'Other']\n",
    "count = 0\n",
    "iDiversity = 100000000 \n",
    "count = 0 \n",
    "bachCount = 0\n",
    "hsCount = 0\n",
    "eleventhCount = 0\n",
    "ninCount = 0\n",
    "masterCount = 0\n",
    "doctCount = 0\n",
    "someCount = 0\n",
    "assocCount = 0\n",
    "fifthCount = 0\n",
    "seventhCount = 0\n",
    "firstCount = 0\n",
    "profCount = 0\n",
    "tenthCount = 0\n",
    "tweCount = 0\n",
    "assocAdCount = 0 \n",
    "preschoolCount = 0\n",
    "for r in race:\n",
    "    for s in sex:\n",
    "        for a in age:\n",
    "            table = dataset.loc[(dataset['race'] == r) & (dataset['sex'] == s) & (dataset['age'].between(30, 50))]\n",
    "            if(len(table) != 0):\n",
    "                SF = table.iloc[:,2].values\n",
    "                for i in range(len(SF)):\n",
    "                    if(SF[i] == 'Bachelors' and bachCount != 1):\n",
    "                        count += 1\n",
    "                        bachCount += 1\n",
    "                    elif(SF[i] == 'HS-grad'and hsCount != 1):\n",
    "                        count += 1\n",
    "                        hsCount += 1\n",
    "                    elif(SF[i] == '11th'and eleventhCount != 1):\n",
    "                        count += 1\n",
    "                        eleventhCount += 1\n",
    "                    elif(SF[i] == '9th'and ninCount != 1):\n",
    "                        count += 1\n",
    "                        ninCount += 1\n",
    "                    elif(SF[i] == 'Masters'and masterCount != 1):\n",
    "                        count += 1\n",
    "                        masterCount += 1\n",
    "                    elif(SF[i] == 'Doctorate'and doctCount != 1):\n",
    "                        count += 1\n",
    "                        doctCount += 1\n",
    "                    elif(SF[i] == 'Some-college'and someCount != 1):\n",
    "                        count += 1\n",
    "                        someCount += 1\n",
    "                    elif(SF[i] == 'Assoc-voc'and assocCount != 1):\n",
    "                        count += 1\n",
    "                        assocCount += 1\n",
    "                    elif(SF[i] == '5th-6th'and fifthCount != 1):\n",
    "                        count += 1\n",
    "                        fifthCount += 1\n",
    "                    elif(SF[i] == '7th-8th'and seventhCount != 1):\n",
    "                        count += 1\n",
    "                        seventhCount += 1\n",
    "                    elif(SF[i] == '1st-4th'and firstCount != 1):\n",
    "                        count += 1\n",
    "                        firstCount += 1\n",
    "                    elif(SF[i] == 'Prof-school'and profCount != 1):\n",
    "                        count += 1\n",
    "                        profCount += 1\n",
    "                    elif(SF[i] == '10th'and tenthCount != 1):\n",
    "                        count += 1\n",
    "                        tenthCount += 1\n",
    "                    elif(SF[i] == '12th'and tweCount != 1):\n",
    "                        count += 1\n",
    "                        tweCount += 1\n",
    "                    elif(SF[i] == 'Preschool'and preschoolCount != 1):\n",
    "                        count += 1\n",
    "                        preschoolCount += 1                    \n",
    "                    elif(SF[i] == 'Assoc-acdm'and assocAdCount != 1):\n",
    "                        count += 1\n",
    "                        assocAdCount += 1  \n",
    "                if(count < iDiversity ):\n",
    "                    iDiversity = count \n",
    "                count = 0 \n",
    "                bachCount = 0\n",
    "                hsCount = 0\n",
    "                eleventhCount = 0\n",
    "                ninCount = 0\n",
    "                masterCount = 0\n",
    "                doctCount = 0\n",
    "                someCount = 0\n",
    "                assocCount = 0\n",
    "                fifthCount = 0\n",
    "                seventhCount = 0\n",
    "                firstCount = 0\n",
    "                profCount = 0\n",
    "                tenthCount = 0\n",
    "                tweCount = 0\n",
    "                assocAdCount = 0 \n",
    "                preschoolCount = 0\n",
    "print(\"Diversity of the dataset(I-diversity) range: 30-50:  \",iDiversity)\n",
    "\n",
    "\n",
    "sex = ['Male', 'Female']\n",
    "race = ['White', 'Black', 'Asian-Pac-Islander','Amer-Indian-Eskimo', 'Other']\n",
    "count = 0\n",
    "iDiversity = 100000000 \n",
    "count = 0 \n",
    "bachCount = 0\n",
    "hsCount = 0\n",
    "eleventhCount = 0\n",
    "ninCount = 0\n",
    "masterCount = 0\n",
    "doctCount = 0\n",
    "someCount = 0\n",
    "assocCount = 0\n",
    "fifthCount = 0\n",
    "seventhCount = 0\n",
    "firstCount = 0\n",
    "profCount = 0\n",
    "tenthCount = 0\n",
    "tweCount = 0\n",
    "assocAdCount = 0 \n",
    "preschoolCount = 0\n",
    "for r in race:\n",
    "    for s in sex:\n",
    "        for a in age:\n",
    "            table = dataset.loc[(dataset['race'] == r) & (dataset['sex'] == s) & (dataset['age'].between(20, 50))]\n",
    "            if(len(table) != 0):\n",
    "                SF = table.iloc[:,2].values\n",
    "                for i in range(len(SF)):\n",
    "                    if(SF[i] == 'Bachelors' and bachCount != 1):\n",
    "                        count += 1\n",
    "                        bachCount += 1\n",
    "                    elif(SF[i] == 'HS-grad'and hsCount != 1):\n",
    "                        count += 1\n",
    "                        hsCount += 1\n",
    "                    elif(SF[i] == '11th'and eleventhCount != 1):\n",
    "                        count += 1\n",
    "                        eleventhCount += 1\n",
    "                    elif(SF[i] == '9th'and ninCount != 1):\n",
    "                        count += 1\n",
    "                        ninCount += 1\n",
    "                    elif(SF[i] == 'Masters'and masterCount != 1):\n",
    "                        count += 1\n",
    "                        masterCount += 1\n",
    "                    elif(SF[i] == 'Doctorate'and doctCount != 1):\n",
    "                        count += 1\n",
    "                        doctCount += 1\n",
    "                    elif(SF[i] == 'Some-college'and someCount != 1):\n",
    "                        count += 1\n",
    "                        someCount += 1\n",
    "                    elif(SF[i] == 'Assoc-voc'and assocCount != 1):\n",
    "                        count += 1\n",
    "                        assocCount += 1\n",
    "                    elif(SF[i] == '5th-6th'and fifthCount != 1):\n",
    "                        count += 1\n",
    "                        fifthCount += 1\n",
    "                    elif(SF[i] == '7th-8th'and seventhCount != 1):\n",
    "                        count += 1\n",
    "                        seventhCount += 1\n",
    "                    elif(SF[i] == '1st-4th'and firstCount != 1):\n",
    "                        count += 1\n",
    "                        firstCount += 1\n",
    "                    elif(SF[i] == 'Prof-school'and profCount != 1):\n",
    "                        count += 1\n",
    "                        profCount += 1\n",
    "                    elif(SF[i] == '10th'and tenthCount != 1):\n",
    "                        count += 1\n",
    "                        tenthCount += 1\n",
    "                    elif(SF[i] == '12th'and tweCount != 1):\n",
    "                        count += 1\n",
    "                        tweCount += 1\n",
    "                    elif(SF[i] == 'Preschool'and preschoolCount != 1):\n",
    "                        count += 1\n",
    "                        preschoolCount += 1                    \n",
    "                    elif(SF[i] == 'Assoc-acdm'and assocAdCount != 1):\n",
    "                        count += 1\n",
    "                        assocAdCount += 1  \n",
    "                if(count < iDiversity ):\n",
    "                    iDiversity = count \n",
    "                count = 0 \n",
    "                bachCount = 0\n",
    "                hsCount = 0\n",
    "                eleventhCount = 0\n",
    "                ninCount = 0\n",
    "                masterCount = 0\n",
    "                doctCount = 0\n",
    "                someCount = 0\n",
    "                assocCount = 0\n",
    "                fifthCount = 0\n",
    "                seventhCount = 0\n",
    "                firstCount = 0\n",
    "                profCount = 0\n",
    "                tenthCount = 0\n",
    "                tweCount = 0\n",
    "                assocAdCount = 0 \n",
    "                preschoolCount = 0\n",
    "print(\"Diversity of the dataset(I-diversity) range: 20-50:  \",iDiversity)\n",
    "\n",
    "sex = ['Male', 'Female']\n",
    "race = ['White', 'Black', 'Asian-Pac-Islander','Amer-Indian-Eskimo', 'Other']\n",
    "count = 0\n",
    "iDiversity = 100000000 \n",
    "count = 0 \n",
    "bachCount = 0\n",
    "hsCount = 0\n",
    "eleventhCount = 0\n",
    "ninCount = 0\n",
    "masterCount = 0\n",
    "doctCount = 0\n",
    "someCount = 0\n",
    "assocCount = 0\n",
    "fifthCount = 0\n",
    "seventhCount = 0\n",
    "firstCount = 0\n",
    "profCount = 0\n",
    "tenthCount = 0\n",
    "tweCount = 0\n",
    "assocAdCount = 0 \n",
    "preschoolCount = 0 \n",
    "\n",
    "for r in race:\n",
    "    for s in sex:\n",
    "        for a in age:\n",
    "            table = dataset.loc[(dataset['race'] == r) & (dataset['sex'] == s) & (dataset['age'].between(0, 50))]\n",
    "            if(len(table) != 0):\n",
    "                SF = table.iloc[:,2].values\n",
    "                for i in range(len(SF)):\n",
    "                    if(SF[i] == 'Bachelors' and bachCount != 1):\n",
    "                        count += 1\n",
    "                        bachCount += 1\n",
    "                    elif(SF[i] == 'HS-grad'and hsCount != 1):\n",
    "                        count += 1\n",
    "                        hsCount += 1\n",
    "                    elif(SF[i] == '11th'and eleventhCount != 1):\n",
    "                        count += 1\n",
    "                        eleventhCount += 1\n",
    "                    elif(SF[i] == '9th'and ninCount != 1):\n",
    "                        count += 1\n",
    "                        ninCount += 1\n",
    "                    elif(SF[i] == 'Masters'and masterCount != 1):\n",
    "                        count += 1\n",
    "                        masterCount += 1\n",
    "                    elif(SF[i] == 'Doctorate'and doctCount != 1):\n",
    "                        count += 1\n",
    "                        doctCount += 1\n",
    "                    elif(SF[i] == 'Some-college'and someCount != 1):\n",
    "                        count += 1\n",
    "                        someCount += 1\n",
    "                    elif(SF[i] == 'Assoc-voc'and assocCount != 1):\n",
    "                        count += 1\n",
    "                        assocCount += 1\n",
    "                    elif(SF[i] == '5th-6th'and fifthCount != 1):\n",
    "                        count += 1\n",
    "                        fifthCount += 1\n",
    "                    elif(SF[i] == '7th-8th'and seventhCount != 1):\n",
    "                        count += 1\n",
    "                        seventhCount += 1\n",
    "                    elif(SF[i] == '1st-4th'and firstCount != 1):\n",
    "                        count += 1\n",
    "                        firstCount += 1\n",
    "                    elif(SF[i] == 'Prof-school'and profCount != 1):\n",
    "                        count += 1\n",
    "                        profCount += 1\n",
    "                    elif(SF[i] == '10th'and tenthCount != 1):\n",
    "                        count += 1\n",
    "                        tenthCount += 1\n",
    "                    elif(SF[i] == '12th'and tweCount != 1):\n",
    "                        count += 1\n",
    "                        tweCount += 1\n",
    "                    elif(SF[i] == 'Preschool'and preschoolCount != 1):\n",
    "                        count += 1\n",
    "                        preschoolCount += 1                    \n",
    "                    elif(SF[i] == 'Assoc-acdm'and assocAdCount != 1):\n",
    "                        count += 1\n",
    "                        assocAdCount += 1  \n",
    "                if(count < iDiversity ):\n",
    "                    iDiversity = count \n",
    "                count = 0 \n",
    "                bachCount = 0\n",
    "                hsCount = 0\n",
    "                eleventhCount = 0\n",
    "                ninCount = 0\n",
    "                masterCount = 0\n",
    "                doctCount = 0\n",
    "                someCount = 0\n",
    "                assocCount = 0\n",
    "                fifthCount = 0\n",
    "                seventhCount = 0\n",
    "                firstCount = 0\n",
    "                profCount = 0\n",
    "                tenthCount = 0\n",
    "                tweCount = 0\n",
    "                assocAdCount = 0 \n",
    "                preschoolCount = 0\n",
    "print(\"Diversity of the dataset(I-diversity) range: 0-50:   \",iDiversity)"
   ]
  },
  {
   "cell_type": "markdown",
   "metadata": {
    "id": "TX1lsm8ydHRK"
   },
   "source": [
    "**T-closeness** is even better than **i-diversity**. **T-closeness** requires that for every combination of information, the distribution of the sensitive attribute's value among the corresponding rows must be close to the overall distribution of the sensitive attribute's value for the whole dataset. Distance between distribution is calculated using the Earth Mover Distance (EMD). The dataset has **t-closeness** if no distance exceeds **t**. \n",
    "\n",
    "c) Calculate the overall distribution of **education**. Find the **t-closeness** of the dataset (largest distance between any combination's distribution of marital-status and the overall distribution).\n",
    "\n",
    "You can use **scipy.stats.wasserstein_distance** to calculate the EMD."
   ]
  },
  {
   "cell_type": "code",
   "execution_count": 268,
   "metadata": {
    "id": "BjR4iG2bdHRK"
   },
   "outputs": [
    {
     "name": "stdout",
     "output_type": "stream",
     "text": [
      "Closeness of the dataset(T-closeness) 0.08468720248149628\n"
     ]
    }
   ],
   "source": [
    "from scipy.stats import wasserstein_distance\n",
    "dataset = pd.read_csv('table3.csv')\n",
    "SF = dataset.iloc[:,2].values # education\n",
    "t_closeness = 0\n",
    "bachCount = 0\n",
    "hsCount = 0\n",
    "eleventhCount = 0\n",
    "ninCount = 0\n",
    "masterCount = 0\n",
    "doctCount = 0\n",
    "someCount = 0\n",
    "assocCount = 0\n",
    "fifthCount = 0\n",
    "seventhCount = 0\n",
    "firstCount = 0\n",
    "profCount = 0\n",
    "tenthCount = 0\n",
    "tweCount = 0\n",
    "assocAdCount = 0 \n",
    "preschoolCount = 0\n",
    "for i in range(len(SF)):\n",
    "    if(SF[i] == 'Bachelors'):\n",
    "        bachCount += 1\n",
    "    elif(SF[i] == 'HS-grad'):\n",
    "        hsCount += 1\n",
    "    elif(SF[i] == '11th'):\n",
    "        eleventhCount += 1\n",
    "    elif(SF[i] == '9th'):\n",
    "        ninCount += 1\n",
    "    elif(SF[i] == 'Masters'):\n",
    "        masterCount += 1\n",
    "    elif(SF[i] == 'Doctorate'):\n",
    "        doctCount += 1\n",
    "    elif(SF[i] == 'Some-college'):\n",
    "        someCount += 1\n",
    "    elif(SF[i] == 'Assoc-voc'):\n",
    "        assocCount += 1\n",
    "    elif(SF[i] == '5th-6th'):\n",
    "        fifthCount += 1\n",
    "    elif(SF[i] == '7th-8th'):\n",
    "        seventhCount += 1\n",
    "    elif(SF[i] == '1st-4th'):\n",
    "        firstCount += 1\n",
    "    elif(SF[i] == 'Prof-school'):\n",
    "        profCount += 1\n",
    "    elif(SF[i] == '10th'):\n",
    "        tenthCount += 1\n",
    "    elif(SF[i] == '12th'):\n",
    "        tweCount += 1\n",
    "    elif(SF[i] == 'Preschool'):\n",
    "        preschoolCount += 1                    \n",
    "    elif(SF[i] == 'Assoc-acdm'):\n",
    "        assocAdCount += 1 \n",
    "overallDistribution = [ bachCount/32561, hsCount/32561,eleventhCount/32561,ninCount/32561, masterCount/32561,\n",
    "doctCount/32561, someCount/32561 , assocCount/32561 , fifthCount/32561, seventhCount/32561, firstCount/32561,\n",
    "profCount/32561, tenthCount/32561,tweCount/32561,assocAdCount/32561,preschoolCount/32561]\n",
    "bachCount = 0\n",
    "hsCount = 0\n",
    "eleventhCount = 0\n",
    "ninCount = 0\n",
    "masterCount = 0\n",
    "doctCount = 0\n",
    "someCount = 0\n",
    "assocCount = 0\n",
    "fifthCount = 0\n",
    "seventhCount = 0\n",
    "firstCount = 0\n",
    "profCount = 0\n",
    "tenthCount = 0\n",
    "tweCount = 0\n",
    "assocAdCount = 0 \n",
    "preschoolCount = 0\n",
    "age = range(0, 100) \n",
    "sex = ['Male', 'Female']\n",
    "race = ['White', 'Black', 'Asian-Pac-Islander','Amer-Indian-Eskimo', 'Other']\n",
    "for r in race:\n",
    "    for s in sex:\n",
    "        for a in age:\n",
    "            table = dataset.loc[(dataset['race'] == r) & (dataset['sex'] == s) & (dataset['age'] == a)]\n",
    "            if(len(table) != 0):\n",
    "                SF = table.iloc[:,2].values\n",
    "                for i in range(len(SF)):\n",
    "                    if(SF[i] == 'Bachelors'):\n",
    "                        bachCount += 1\n",
    "                    elif(SF[i] == 'HS-grad'):\n",
    "                        hsCount += 1\n",
    "                    elif(SF[i] == '11th'):\n",
    "                        eleventhCount += 1\n",
    "                    elif(SF[i] == '9th'):\n",
    "                        ninCount += 1\n",
    "                    elif(SF[i] == 'Masters'):\n",
    "                        masterCount += 1\n",
    "                    elif(SF[i] == 'Doctorate'):\n",
    "                        doctCount += 1\n",
    "                    elif(SF[i] == 'Some-college'):\n",
    "                        someCount += 1\n",
    "                    elif(SF[i] == 'Assoc-voc'):\n",
    "                        assocCount += 1\n",
    "                    elif(SF[i] == '5th-6th'):\n",
    "                        fifthCount += 1\n",
    "                    elif(SF[i] == '7th-8th'):\n",
    "                        seventhCount += 1\n",
    "                    elif(SF[i] == '1st-4th'):\n",
    "                        firstCount += 1\n",
    "                    elif(SF[i] == 'Prof-school'):\n",
    "                        profCount += 1\n",
    "                    elif(SF[i] == '10th'):\n",
    "                        tenthCount += 1\n",
    "                    elif(SF[i] == '12th'):\n",
    "                        tweCount += 1\n",
    "                    elif(SF[i] == 'Preschool'):\n",
    "                        preschoolCount += 1                    \n",
    "                    elif(SF[i] == 'Assoc-acdm'):\n",
    "                        assocAdCount += 1\n",
    "                combinationDistribution = [ bachCount/len(table), hsCount/len(table),eleventhCount/len(table),ninCount/len(table), masterCount/len(table),\n",
    "                    doctCount/len(table), someCount/len(table) , assocCount/len(table) , fifthCount/len(table), seventhCount/len(table), firstCount/len(table),\n",
    "                    profCount/len(table), tenthCount/len(table),tweCount/len(table),assocAdCount/len(table),preschoolCount/len(table)]\n",
    "                emd = wasserstein_distance(combinationDistribution, overallDistribution)\n",
    "                if (emd > t_closeness ):\n",
    "                    t_closeness = emd \n",
    "                bachCount = 0\n",
    "                hsCount = 0\n",
    "                eleventhCount = 0\n",
    "                ninCount = 0\n",
    "                masterCount = 0\n",
    "                doctCount = 0\n",
    "                someCount = 0\n",
    "                assocCount = 0\n",
    "                fifthCount = 0\n",
    "                seventhCount = 0\n",
    "                firstCount = 0\n",
    "                profCount = 0\n",
    "                tenthCount = 0\n",
    "                tweCount = 0\n",
    "                assocAdCount = 0 \n",
    "                preschoolCount = 0\n",
    "\n",
    "print(\"Closeness of the dataset(T-closeness)\",t_closeness)\n"
   ]
  },
  {
   "cell_type": "markdown",
   "metadata": {
    "id": "W5LHcufCdHRK"
   },
   "source": [
    "### Problem 4 \n",
    "\n",
    "There are 2 regression datasets given to you: \"group1.csv\" and \"group2.csv\". Both have 2 attributes and no label. Load them and store them in $X_1$ and $X_2$, respectively. "
   ]
  },
  {
   "cell_type": "code",
   "execution_count": 95,
   "metadata": {
    "id": "zpMsZXkPdHRK"
   },
   "outputs": [],
   "source": [
    "import numpy as np\n",
    "import matplotlib.pyplot as plt\n",
    "import pandas as pd"
   ]
  },
  {
   "cell_type": "code",
   "execution_count": 106,
   "metadata": {},
   "outputs": [],
   "source": [
    "dataset1 = pd.read_csv('group1.csv')\n",
    "X1 = dataset1.iloc[:, :-1].values\n",
    "y1 = dataset1.iloc[:, 1].values\n",
    "\n",
    "dataset2 = pd.read_csv('group2.csv')\n",
    "X2 = dataset2.iloc[:, :-1].values\n",
    "y2 = dataset2.iloc[:, 1].values\n"
   ]
  },
  {
   "cell_type": "markdown",
   "metadata": {
    "id": "AiDGJzt-dHRK"
   },
   "source": [
    "a) Run Linear Regression on each of the datasets. Are the coefficients positive or negative? Provide a plot for each dataset. "
   ]
  },
  {
   "cell_type": "code",
   "execution_count": 107,
   "metadata": {
    "id": "C4AhAsWxdHRK"
   },
   "outputs": [
    {
     "name": "stdout",
     "output_type": "stream",
     "text": [
      "Group 1 coefficients:  [0.94091131]\n",
      "Group 1 intercept   :  3.039383740727105\n",
      "Group 2 coefficients:  [1.12119228]\n",
      "Group 2 intercept   :  -4.742667504931767\n"
     ]
    },
    {
     "data": {
      "image/png": "[encoded data removed]",
      "text/plain": [
       "<Figure size 432x288 with 1 Axes>"
      ]
     },
     "metadata": {
      "needs_background": "light"
     },
     "output_type": "display_data"
    },
    {
     "data": {
      "image/png": "[encoded data removed]",
      "text/plain": [
       "<Figure size 432x288 with 1 Axes>"
      ]
     },
     "metadata": {
      "needs_background": "light"
     },
     "output_type": "display_data"
    }
   ],
   "source": [
    "from sklearn.model_selection import train_test_split\n",
    "from sklearn.linear_model import LinearRegression\n",
    "\n",
    "\n",
    "X_train_1, X_test_1, y_train_1, y_test_1 = train_test_split(X1, y1, test_size = 0.1)\n",
    "X_train_2, X_test_2, y_train_2, y_test_2 = train_test_split(X2, y2, test_size = 0.1)\n",
    "\n",
    "regressor_1 = LinearRegression()\n",
    "regressor_1.fit(X_train_1, y_train_1)\n",
    "print(\"Group 1 coefficients: \", regressor_1.coef_)\n",
    "print(\"Group 1 intercept   : \", regressor_1.intercept_)\n",
    "\n",
    "\n",
    "regressor_2 = LinearRegression()\n",
    "regressor_2.fit(X_train_2, y_train_2)\n",
    "print(\"Group 2 coefficients: \", regressor_2.coef_)\n",
    "print(\"Group 2 intercept   : \", regressor_2.intercept_)\n",
    "\n",
    "\n",
    "\n",
    "y_pred_1 = regressor_1.predict(X_test_1)\n",
    "y_pred_2 = regressor_2.predict(X_test_2)\n",
    "\n",
    "plt.scatter(X1, y1, color = 'red')\n",
    "plt.plot(X1, regressor_1.predict(X1), color = 'blue')\n",
    "plt.title('Group 1')\n",
    "plt.show()\n",
    "\n",
    "plt.scatter(X2, y2, color = 'red')\n",
    "plt.plot(X2, regressor_2.predict(X2), color = 'blue')\n",
    "plt.title('Group 2')\n",
    "plt.show()\n"
   ]
  },
  {
   "cell_type": "markdown",
   "metadata": {
    "id": "j1PyBaU1dHRL"
   },
   "source": [
    "b) Now combine both datasets into a single large dataset. Call this dataset $X$ ($X=X_1 \\cup X_2$). Again, run Linear Regression on the combined dataset $X$. Is the coefficient positive or negative? Provide a plot. "
   ]
  },
  {
   "cell_type": "code",
   "execution_count": 135,
   "metadata": {
    "id": "9BjTQh9BdHRL"
   },
   "outputs": [
    {
     "name": "stdout",
     "output_type": "stream",
     "text": [
      "       0     1     2     3\n",
      "0   3.65  6.26  7.75  2.30\n",
      "1   2.56  5.52  6.19  1.28\n",
      "2   3.58  6.15  4.27  0.76\n",
      "3   4.56  5.94  7.82  1.54\n",
      "4   3.03  6.30  7.36  1.01\n",
      "..   ...   ...   ...   ...\n",
      "95  4.37  6.86  8.18  2.75\n",
      "96  3.80  4.93  6.70  0.33\n",
      "97  4.80  6.54  5.07  3.00\n",
      "98  3.78  5.38  3.44  0.00\n",
      "99  5.32  5.88  7.20  1.98\n",
      "\n",
      "[100 rows x 4 columns]\n",
      "Combined coefficients:  [[0.8691781]]\n",
      "Combined intercept   :  [3.41771927]\n"
     ]
    },
    {
     "data": {
      "image/png": "[encoded data removed]",
      "text/plain": [
       "<Figure size 432x288 with 1 Axes>"
      ]
     },
     "metadata": {
      "needs_background": "light"
     },
     "output_type": "display_data"
    }
   ],
   "source": [
    "dataset = pd.read_csv('combined.csv',header = None)\n",
    "print(dataset)\n",
    "X = dataset.iloc[:, 0:1].values\n",
    "y = dataset.iloc[:, 2:3].values\n",
    "\n",
    "X_train, X_test, y_train, y_test = train_test_split(X, y, test_size = 0.2)\n",
    "\n",
    "regressor = LinearRegression()\n",
    "regressor.fit(X_train, y_train)\n",
    "print(\"Combined coefficients: \", regressor.coef_)\n",
    "print(\"Combined intercept   : \", regressor.intercept_)\n",
    "y_pred = regressor.predict(X_test)\n",
    "\n",
    "plt.scatter(X, y, color = 'red')\n",
    "plt.plot(X, regressor.predict(X), color = 'blue')\n",
    "plt.title('Combined')\n",
    "plt.show()"
   ]
  },
  {
   "cell_type": "markdown",
   "metadata": {
    "id": "RTV1WfcWdHRL"
   },
   "source": [
    "c) What is the name of this illustrated paradox? What do the above results tell us about modeling the relationship between two variables in the presence of a missing attribute? To give you some intuition, imagine there is a third unobserved attribute $Z$ that has different values depending on which group an example belongs to. In other words, every data point in $X_1$ has $Z=1$ and every data point in $X_2$ has $Z=2$. Attribute $Z$ essentially partitions the whole dataset $X$ into 2 subsets $X_1$ and $X_2$.  "
   ]
  },
  {
   "cell_type": "markdown",
   "metadata": {
    "id": "8VvUS2pXdHRL"
   },
   "source": [
    "The name of this illustrated paradox is Simpson's paradox. The above results tell us that the trend we observe observe when only using a single group, but disappear when combining the groups support the theory of Simpson's paradox. Looking at example given we know we wiil observe different different trends in the data when looking at X1 and X2 separately or looking at them together. "
   ]
  },
  {
   "cell_type": "markdown",
   "metadata": {
    "id": "W5LHcufCdHRK"
   },
   "source": [
    "### Problem 5 \n",
    "\n",
    "Consider the Causal Graphical Network below: "
   ]
  },
  {
   "cell_type": "markdown",
   "metadata": {
    "id": "AiDGJzt-dHRK"
   },
   "source": [
    "a) Are variables W and Z independent?"
   ]
  },
  {
   "cell_type": "markdown",
   "metadata": {},
   "source": [
    "Variable W is exogenous so it is independent. Variable Z is endogenous so it is dependent"
   ]
  },
  {
   "cell_type": "markdown",
   "metadata": {
    "id": "AiDGJzt-dHRK"
   },
   "source": [
    "b) Are W and Z conditionally independent given Y"
   ]
  },
  {
   "cell_type": "markdown",
   "metadata": {},
   "source": [
    "They are not conditionaly independent. Since every path from W to Z is not d-separated or blocked "
   ]
  },
  {
   "cell_type": "markdown",
   "metadata": {
    "id": "AiDGJzt-dHRK"
   },
   "source": [
    "c) Are W and Z conditionally independent given X"
   ]
  },
  {
   "cell_type": "markdown",
   "metadata": {
    "id": "AiDGJzt-dHRK"
   },
   "source": [
    "They are not conditionaly independent. Since every path from W to Z is not d-separated or blocked "
   ]
  },
  {
   "cell_type": "markdown",
   "metadata": {
    "id": "AiDGJzt-dHRK"
   },
   "source": [
    "d) Repeat items 1–3 under the condition do(T = 1)"
   ]
  },
  {
   "cell_type": "markdown",
   "metadata": {},
   "source": [
    "    a) Yes variables W and Z are independent\n",
    "    b) W and Z are conditionally independent given Y. There is a path from W to Z that is d-separated and not blocked \n",
    "    c) W and Z are conditionally independent given X. There is a path from W to Z that is d-separated and not blocked "
   ]
  },
  {
   "cell_type": "code",
   "execution_count": null,
   "metadata": {},
   "outputs": [],
   "source": []
  }
 ],
 "metadata": {
  "colab": {
   "name": "HW4.ipynb",
   "provenance": []
  },
  "kernelspec": {
   "display_name": "Python 3",
   "language": "python",
   "name": "python3"
  },
  "language_info": {
   "codemirror_mode": {
    "name": "ipython",
    "version": 3
   },
   "file_extension": ".py",
   "mimetype": "text/x-python",
   "name": "python",
   "nbconvert_exporter": "python",
   "pygments_lexer": "ipython3",
   "version": "3.7.1"
  }
 },
 "nbformat": 4,
 "nbformat_minor": 1
}
